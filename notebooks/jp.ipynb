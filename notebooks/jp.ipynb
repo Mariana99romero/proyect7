{
 "cells": [
  {
   "cell_type": "code",
   "execution_count": null,
   "metadata": {},
   "outputs": [],
   "source": [
    "import pandas as pd\n",
    "import plotly.express as px\n",
    "import streamlit as st\n",
    "car_data= pd.read_csv(\"vehicles_us.csv\")\n",
    "hist_button = st.button('Construir histograma') # crear un botón\n",
    "        \n",
    "if hist_button: # al hacer clic en el botón\n",
    "            # escribir un mensaje\n",
    "        st.write('Creación de un histograma para el conjunto de datos de anuncios de venta de coches')\n",
    "            \n",
    "            # crear un histograma\n",
    "        fig = px.histogram(car_data, x=\"odometer\")\n",
    "        \n",
    "            # mostrar un gráfico Plotly interactivo\n",
    "        st.plotly_chart(fig, use_container_width=True)\n", 
    "disp_button = st.button(\"Construir un gráfico de dispersión\")\n",
    "if disp_button:\n",
    "        st.write(\"Creación de un gráfico de dispersión\")\n",
    "        fig= px.scatter(car_data, x=\"odometer\",y=\"price\")\n",
    "        st.plotly_chart(fig, user_container_width=True)"
   ]
  }
 ],
 "metadata": {
  "language_info": {
   "name": "python"
  }
 },
 "nbformat": 4,
 "nbformat_minor": 2
}
